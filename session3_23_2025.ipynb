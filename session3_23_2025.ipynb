{
 "cells": [
  {
   "cell_type": "code",
   "execution_count": 1,
   "id": "c38e26e5",
   "metadata": {},
   "outputs": [],
   "source": [
    "import pandas as pd\n",
    "import numpy as np\n",
    "from sklearn.linear_model import LinearRegression\n",
    "from sklearn.metrics import r2_score\n",
    "import matplotlib.pyplot as plt"
   ]
  },
  {
   "cell_type": "code",
   "execution_count": 2,
   "id": "f3b3bcb0",
   "metadata": {},
   "outputs": [],
   "source": [
    "data = pd.DataFrame()\n",
    "data[\"x\"] = [1, 2, 3, 4]\n",
    "data[\"y\"] = [9, 10, 16, 25]"
   ]
  },
  {
   "cell_type": "code",
   "execution_count": 3,
   "id": "954cde40",
   "metadata": {},
   "outputs": [
    {
     "data": {
      "text/plain": [
       "0.9"
      ]
     },
     "execution_count": 3,
     "metadata": {},
     "output_type": "execute_result"
    }
   ],
   "source": [
    "model = LinearRegression()\n",
    "\n",
    "model.fit(data[[\"x\"]], data[[\"y\"]])\n",
    "\n",
    "pred = model.predict(data[[\"x\"]])\n",
    "\n",
    "r2_score(data[\"y\"], pred)"
   ]
  },
  {
   "cell_type": "code",
   "execution_count": 4,
   "id": "247136eb",
   "metadata": {},
   "outputs": [
    {
     "data": {
      "text/plain": [
       "array([1.5])"
      ]
     },
     "execution_count": 4,
     "metadata": {},
     "output_type": "execute_result"
    }
   ],
   "source": [
    "model.intercept_"
   ]
  },
  {
   "cell_type": "code",
   "execution_count": 5,
   "id": "a053c48e",
   "metadata": {},
   "outputs": [
    {
     "data": {
      "text/plain": [
       "array([[5.4]])"
      ]
     },
     "execution_count": 5,
     "metadata": {},
     "output_type": "execute_result"
    }
   ],
   "source": [
    "model.coef_"
   ]
  },
  {
   "cell_type": "code",
   "execution_count": 6,
   "id": "0fc5e9a9",
   "metadata": {},
   "outputs": [
    {
     "data": {
      "text/plain": [
       "0.9446640952395841"
      ]
     },
     "execution_count": 6,
     "metadata": {},
     "output_type": "execute_result"
    }
   ],
   "source": [
    "# x vs log(y)\n",
    "new_x = data[[\"x\"]]\n",
    "new_y = np.log(data[\"y\"])\n",
    "\n",
    "model = LinearRegression()\n",
    "\n",
    "model.fit(new_x, new_y)\n",
    "\n",
    "pred = model.predict(new_x)\n",
    "\n",
    "r2_score(new_y, pred)"
   ]
  },
  {
   "cell_type": "code",
   "execution_count": 7,
   "id": "6db35235",
   "metadata": {},
   "outputs": [
    {
     "data": {
      "text/plain": [
       "0.7524064170496467"
      ]
     },
     "execution_count": 7,
     "metadata": {},
     "output_type": "execute_result"
    }
   ],
   "source": [
    "# y vs log(x)\n",
    "new_x = np.log(data[[\"x\"]])\n",
    "new_y = data[[\"y\"]]\n",
    "\n",
    "\n",
    "model = LinearRegression()\n",
    "\n",
    "model.fit(new_x, new_y)\n",
    "\n",
    "pred = model.predict(new_x)\n",
    "\n",
    "r2_score(new_y, pred)"
   ]
  },
  {
   "cell_type": "code",
   "execution_count": 8,
   "id": "452eb9c4",
   "metadata": {},
   "outputs": [
    {
     "data": {
      "text/html": [
       "<div>\n",
       "<style scoped>\n",
       "    .dataframe tbody tr th:only-of-type {\n",
       "        vertical-align: middle;\n",
       "    }\n",
       "\n",
       "    .dataframe tbody tr th {\n",
       "        vertical-align: top;\n",
       "    }\n",
       "\n",
       "    .dataframe thead th {\n",
       "        text-align: right;\n",
       "    }\n",
       "</style>\n",
       "<table border=\"1\" class=\"dataframe\">\n",
       "  <thead>\n",
       "    <tr style=\"text-align: right;\">\n",
       "      <th></th>\n",
       "      <th>x</th>\n",
       "      <th>y</th>\n",
       "    </tr>\n",
       "  </thead>\n",
       "  <tbody>\n",
       "    <tr>\n",
       "      <th>0</th>\n",
       "      <td>1</td>\n",
       "      <td>9</td>\n",
       "    </tr>\n",
       "    <tr>\n",
       "      <th>1</th>\n",
       "      <td>2</td>\n",
       "      <td>10</td>\n",
       "    </tr>\n",
       "    <tr>\n",
       "      <th>2</th>\n",
       "      <td>3</td>\n",
       "      <td>16</td>\n",
       "    </tr>\n",
       "    <tr>\n",
       "      <th>3</th>\n",
       "      <td>4</td>\n",
       "      <td>25</td>\n",
       "    </tr>\n",
       "  </tbody>\n",
       "</table>\n",
       "</div>"
      ],
      "text/plain": [
       "   x   y\n",
       "0  1   9\n",
       "1  2  10\n",
       "2  3  16\n",
       "3  4  25"
      ]
     },
     "execution_count": 8,
     "metadata": {},
     "output_type": "execute_result"
    }
   ],
   "source": [
    "data"
   ]
  },
  {
   "cell_type": "code",
   "execution_count": 9,
   "id": "74e0cb5f",
   "metadata": {},
   "outputs": [],
   "source": [
    "data[\"x_2\"] = data[\"x\"]**2\n",
    "data[\"x_3\"] = data[\"x\"]**3"
   ]
  },
  {
   "cell_type": "code",
   "execution_count": 10,
   "id": "53c85c6f",
   "metadata": {},
   "outputs": [
    {
     "data": {
      "text/plain": [
       "0.9987654320987654"
      ]
     },
     "execution_count": 10,
     "metadata": {},
     "output_type": "execute_result"
    }
   ],
   "source": [
    "# y vs log(x)\n",
    "new_x = data[[\"x\", \"x_2\"]]\n",
    "new_y = data[[\"y\"]]\n",
    "\n",
    "\n",
    "model = LinearRegression()\n",
    "\n",
    "model.fit(new_x, new_y)\n",
    "\n",
    "pred = model.predict(new_x)\n",
    "\n",
    "r2_score(new_y, pred)"
   ]
  },
  {
   "cell_type": "code",
   "execution_count": 11,
   "id": "0a6d88a8",
   "metadata": {},
   "outputs": [
    {
     "data": {
      "text/plain": [
       "1.0"
      ]
     },
     "execution_count": 11,
     "metadata": {},
     "output_type": "execute_result"
    }
   ],
   "source": [
    "# y vs log(x)\n",
    "new_x = data[[\"x\", \"x_2\", \"x_3\"]]\n",
    "new_y = data[[\"y\"]]\n",
    "\n",
    "\n",
    "model = LinearRegression()\n",
    "\n",
    "model.fit(new_x, new_y)\n",
    "\n",
    "pred = model.predict(new_x)\n",
    "\n",
    "r2_score(new_y, pred)"
   ]
  },
  {
   "cell_type": "code",
   "execution_count": 12,
   "id": "211af69b",
   "metadata": {},
   "outputs": [
    {
     "data": {
      "text/plain": [
       "array([15.])"
      ]
     },
     "execution_count": 12,
     "metadata": {},
     "output_type": "execute_result"
    }
   ],
   "source": [
    "model.intercept_ # c"
   ]
  },
  {
   "cell_type": "code",
   "execution_count": 13,
   "id": "5814aea4",
   "metadata": {},
   "outputs": [
    {
     "data": {
      "text/plain": [
       "array([[-10.16666667,   4.5       ,  -0.33333333]])"
      ]
     },
     "execution_count": 13,
     "metadata": {},
     "output_type": "execute_result"
    }
   ],
   "source": [
    "model.coef_"
   ]
  },
  {
   "cell_type": "code",
   "execution_count": 14,
   "id": "98e6e1e3",
   "metadata": {},
   "outputs": [],
   "source": [
    "# y = -10.16666667 + 4.5 x^2 -0.33333333 x^3 +  15.000"
   ]
  },
  {
   "cell_type": "code",
   "execution_count": 15,
   "id": "9e04336a",
   "metadata": {},
   "outputs": [
    {
     "name": "stdout",
     "output_type": "stream",
     "text": [
      "                            OLS Regression Results                            \n",
      "==============================================================================\n",
      "Dep. Variable:                      y   R-squared:                       0.999\n",
      "Model:                            OLS   Adj. R-squared:                  0.996\n",
      "Method:                 Least Squares   F-statistic:                     404.5\n",
      "Date:                Sat, 23 Aug 2025   Prob (F-statistic):             0.0351\n",
      "Time:                        10:17:07   Log-Likelihood:                0.31571\n",
      "No. Observations:                   4   AIC:                             5.369\n",
      "Df Residuals:                       1   BIC:                             3.527\n",
      "Df Model:                           2                                         \n",
      "Covariance Type:            nonrobust                                         \n",
      "==============================================================================\n",
      "                 coef    std err          t      P>|t|      [0.025      0.975]\n",
      "------------------------------------------------------------------------------\n",
      "const         11.5000      1.245      9.237      0.069      -4.319      27.319\n",
      "x             -4.6000      1.136     -4.050      0.154     -19.031       9.831\n",
      "x_2            2.0000      0.224      8.944      0.071      -0.841       4.841\n",
      "==============================================================================\n",
      "Omnibus:                          nan   Durbin-Watson:                   3.400\n",
      "Prob(Omnibus):                    nan   Jarque-Bera (JB):                0.308\n",
      "Skew:                          -0.000   Prob(JB):                        0.857\n",
      "Kurtosis:                       1.640   Cond. No.                         73.7\n",
      "==============================================================================\n",
      "\n",
      "Notes:\n",
      "[1] Standard Errors assume that the covariance matrix of the errors is correctly specified.\n"
     ]
    },
    {
     "name": "stderr",
     "output_type": "stream",
     "text": [
      "/opt/anaconda3/lib/python3.13/site-packages/statsmodels/stats/stattools.py:74: ValueWarning: omni_normtest is not valid with less than 8 observations; 4 samples were given.\n",
      "  warn(\"omni_normtest is not valid with less than 8 observations; %i \"\n"
     ]
    },
    {
     "data": {
      "text/plain": [
       "'\\nsklearn x, y\\nStats\\n'"
      ]
     },
     "execution_count": 15,
     "metadata": {},
     "output_type": "execute_result"
    }
   ],
   "source": [
    "import statsmodels.api as sm\n",
    "\n",
    "new_x = data[[\"x\", \"x_2\"]]\n",
    "new_y = data[[\"y\"]]\n",
    "\n",
    "new_x_with_const = sm.add_constant(new_x)\n",
    "\n",
    "SLR_model = sm.OLS(new_y, new_x_with_const).fit() # Ordinary Least Squares\n",
    "\n",
    "print(SLR_model.summary())\n",
    "\n",
    "\"\"\"\n",
    "sklearn x, y\n",
    "Stats\n",
    "\"\"\""
   ]
  },
  {
   "cell_type": "code",
   "execution_count": 16,
   "id": "5a955dad",
   "metadata": {},
   "outputs": [],
   "source": [
    "data[\"x_4\"] = data[\"x\"]"
   ]
  },
  {
   "cell_type": "code",
   "execution_count": 17,
   "id": "0fc60f0b",
   "metadata": {},
   "outputs": [
    {
     "data": {
      "text/html": [
       "<div>\n",
       "<style scoped>\n",
       "    .dataframe tbody tr th:only-of-type {\n",
       "        vertical-align: middle;\n",
       "    }\n",
       "\n",
       "    .dataframe tbody tr th {\n",
       "        vertical-align: top;\n",
       "    }\n",
       "\n",
       "    .dataframe thead th {\n",
       "        text-align: right;\n",
       "    }\n",
       "</style>\n",
       "<table border=\"1\" class=\"dataframe\">\n",
       "  <thead>\n",
       "    <tr style=\"text-align: right;\">\n",
       "      <th></th>\n",
       "      <th>x</th>\n",
       "      <th>y</th>\n",
       "      <th>x_2</th>\n",
       "      <th>x_3</th>\n",
       "      <th>x_4</th>\n",
       "    </tr>\n",
       "  </thead>\n",
       "  <tbody>\n",
       "    <tr>\n",
       "      <th>0</th>\n",
       "      <td>1</td>\n",
       "      <td>9</td>\n",
       "      <td>1</td>\n",
       "      <td>1</td>\n",
       "      <td>1</td>\n",
       "    </tr>\n",
       "    <tr>\n",
       "      <th>1</th>\n",
       "      <td>2</td>\n",
       "      <td>10</td>\n",
       "      <td>4</td>\n",
       "      <td>8</td>\n",
       "      <td>2</td>\n",
       "    </tr>\n",
       "    <tr>\n",
       "      <th>2</th>\n",
       "      <td>3</td>\n",
       "      <td>16</td>\n",
       "      <td>9</td>\n",
       "      <td>27</td>\n",
       "      <td>3</td>\n",
       "    </tr>\n",
       "    <tr>\n",
       "      <th>3</th>\n",
       "      <td>4</td>\n",
       "      <td>25</td>\n",
       "      <td>16</td>\n",
       "      <td>64</td>\n",
       "      <td>4</td>\n",
       "    </tr>\n",
       "  </tbody>\n",
       "</table>\n",
       "</div>"
      ],
      "text/plain": [
       "   x   y  x_2  x_3  x_4\n",
       "0  1   9    1    1    1\n",
       "1  2  10    4    8    2\n",
       "2  3  16    9   27    3\n",
       "3  4  25   16   64    4"
      ]
     },
     "execution_count": 17,
     "metadata": {},
     "output_type": "execute_result"
    }
   ],
   "source": [
    "data"
   ]
  },
  {
   "cell_type": "code",
   "execution_count": 30,
   "id": "e6c6f827",
   "metadata": {},
   "outputs": [
    {
     "name": "stdout",
     "output_type": "stream",
     "text": [
      "                            OLS Regression Results                            \n",
      "==============================================================================\n",
      "Dep. Variable:                      y   R-squared:                       0.900\n",
      "Model:                            OLS   Adj. R-squared:                  0.850\n",
      "Method:                 Least Squares   F-statistic:                     18.00\n",
      "Date:                Sat, 23 Aug 2025   Prob (F-statistic):             0.0513\n",
      "Time:                        10:49:20   Log-Likelihood:                -8.4732\n",
      "No. Observations:                   4   AIC:                             20.95\n",
      "Df Residuals:                       2   BIC:                             19.72\n",
      "Df Model:                           1                                         \n",
      "Covariance Type:            nonrobust                                         \n",
      "==============================================================================\n",
      "                 coef    std err          t      P>|t|      [0.025      0.975]\n",
      "------------------------------------------------------------------------------\n",
      "const          1.5000      3.486      0.430      0.709     -13.498      16.498\n",
      "x              2.7000      0.636      4.243      0.051      -0.038       5.438\n",
      "x_4            2.7000      0.636      4.243      0.051      -0.038       5.438\n",
      "==============================================================================\n",
      "Omnibus:                          nan   Durbin-Watson:                   2.017\n",
      "Prob(Omnibus):                    nan   Jarque-Bera (JB):                0.635\n",
      "Skew:                          -0.029   Prob(JB):                        0.728\n",
      "Kurtosis:                       1.049   Cond. No.                          inf\n",
      "==============================================================================\n",
      "\n",
      "Notes:\n",
      "[1] Standard Errors assume that the covariance matrix of the errors is correctly specified.\n",
      "[2] The smallest eigenvalue is      0. This might indicate that there are\n",
      "strong multicollinearity problems or that the design matrix is singular.\n"
     ]
    },
    {
     "name": "stderr",
     "output_type": "stream",
     "text": [
      "/opt/anaconda3/lib/python3.13/site-packages/statsmodels/stats/stattools.py:74: ValueWarning: omni_normtest is not valid with less than 8 observations; 4 samples were given.\n",
      "  warn(\"omni_normtest is not valid with less than 8 observations; %i \"\n",
      "/opt/anaconda3/lib/python3.13/site-packages/statsmodels/regression/linear_model.py:1966: RuntimeWarning: divide by zero encountered in scalar divide\n",
      "  return np.sqrt(eigvals[0]/eigvals[-1])\n"
     ]
    }
   ],
   "source": [
    "data[\"x_4\"] = data[\"x\"]\n",
    "new_x = data[[\"x\", \"x_4\"]]\n",
    "new_y = data[[\"y\"]]\n",
    "\n",
    "new_x_with_const = sm.add_constant(new_x)\n",
    "\n",
    "SLR_model = sm.OLS(new_y, new_x_with_const).fit() # Ordinary Least Squares\n",
    "\n",
    "print(SLR_model.summary())"
   ]
  },
  {
   "cell_type": "code",
   "execution_count": null,
   "id": "06b77194",
   "metadata": {},
   "outputs": [],
   "source": [
    "# H0: variavle is not importnant --> higher p supports H0\n",
    "# H1: variable is important ---> lower p supports H1"
   ]
  },
  {
   "cell_type": "code",
   "execution_count": 107,
   "id": "e6c5fd9d",
   "metadata": {},
   "outputs": [
    {
     "name": "stdout",
     "output_type": "stream",
     "text": [
      "<class 'pandas.core.frame.DataFrame'>\n",
      "RangeIndex: 82 entries, 0 to 81\n",
      "Data columns (total 5 columns):\n",
      " #   Column  Non-Null Count  Dtype  \n",
      "---  ------  --------------  -----  \n",
      " 0   VOL     82 non-null     int64  \n",
      " 1   HP      82 non-null     int64  \n",
      " 2   MPG     82 non-null     float64\n",
      " 3   SP      82 non-null     int64  \n",
      " 4   WT      82 non-null     float64\n",
      "dtypes: float64(2), int64(3)\n",
      "memory usage: 3.3 KB\n"
     ]
    }
   ],
   "source": [
    "cars = pd.read_csv(\"Car_MPG_Data.csv\")\n",
    "# cars.drop(columns=[\"HP\"], inplace=True)\n",
    "cars.info()"
   ]
  },
  {
   "cell_type": "code",
   "execution_count": 99,
   "id": "2ff102f8",
   "metadata": {},
   "outputs": [
    {
     "data": {
      "text/html": [
       "<div>\n",
       "<style scoped>\n",
       "    .dataframe tbody tr th:only-of-type {\n",
       "        vertical-align: middle;\n",
       "    }\n",
       "\n",
       "    .dataframe tbody tr th {\n",
       "        vertical-align: top;\n",
       "    }\n",
       "\n",
       "    .dataframe thead th {\n",
       "        text-align: right;\n",
       "    }\n",
       "</style>\n",
       "<table border=\"1\" class=\"dataframe\">\n",
       "  <thead>\n",
       "    <tr style=\"text-align: right;\">\n",
       "      <th></th>\n",
       "      <th>VOL</th>\n",
       "      <th>MPG</th>\n",
       "      <th>SP</th>\n",
       "      <th>WT</th>\n",
       "    </tr>\n",
       "  </thead>\n",
       "  <tbody>\n",
       "    <tr>\n",
       "      <th>0</th>\n",
       "      <td>89</td>\n",
       "      <td>65.4</td>\n",
       "      <td>96</td>\n",
       "      <td>17.5</td>\n",
       "    </tr>\n",
       "    <tr>\n",
       "      <th>1</th>\n",
       "      <td>92</td>\n",
       "      <td>56.0</td>\n",
       "      <td>97</td>\n",
       "      <td>20.0</td>\n",
       "    </tr>\n",
       "    <tr>\n",
       "      <th>2</th>\n",
       "      <td>92</td>\n",
       "      <td>55.9</td>\n",
       "      <td>97</td>\n",
       "      <td>20.0</td>\n",
       "    </tr>\n",
       "    <tr>\n",
       "      <th>3</th>\n",
       "      <td>92</td>\n",
       "      <td>49.0</td>\n",
       "      <td>105</td>\n",
       "      <td>20.0</td>\n",
       "    </tr>\n",
       "    <tr>\n",
       "      <th>4</th>\n",
       "      <td>92</td>\n",
       "      <td>46.5</td>\n",
       "      <td>96</td>\n",
       "      <td>20.0</td>\n",
       "    </tr>\n",
       "    <tr>\n",
       "      <th>...</th>\n",
       "      <td>...</td>\n",
       "      <td>...</td>\n",
       "      <td>...</td>\n",
       "      <td>...</td>\n",
       "    </tr>\n",
       "    <tr>\n",
       "      <th>77</th>\n",
       "      <td>50</td>\n",
       "      <td>18.1</td>\n",
       "      <td>165</td>\n",
       "      <td>45.0</td>\n",
       "    </tr>\n",
       "    <tr>\n",
       "      <th>78</th>\n",
       "      <td>115</td>\n",
       "      <td>17.2</td>\n",
       "      <td>140</td>\n",
       "      <td>45.0</td>\n",
       "    </tr>\n",
       "    <tr>\n",
       "      <th>79</th>\n",
       "      <td>50</td>\n",
       "      <td>17.0</td>\n",
       "      <td>147</td>\n",
       "      <td>45.0</td>\n",
       "    </tr>\n",
       "    <tr>\n",
       "      <th>80</th>\n",
       "      <td>119</td>\n",
       "      <td>16.7</td>\n",
       "      <td>157</td>\n",
       "      <td>45.0</td>\n",
       "    </tr>\n",
       "    <tr>\n",
       "      <th>81</th>\n",
       "      <td>107</td>\n",
       "      <td>13.2</td>\n",
       "      <td>130</td>\n",
       "      <td>55.0</td>\n",
       "    </tr>\n",
       "  </tbody>\n",
       "</table>\n",
       "<p>82 rows × 4 columns</p>\n",
       "</div>"
      ],
      "text/plain": [
       "    VOL   MPG   SP    WT\n",
       "0    89  65.4   96  17.5\n",
       "1    92  56.0   97  20.0\n",
       "2    92  55.9   97  20.0\n",
       "3    92  49.0  105  20.0\n",
       "4    92  46.5   96  20.0\n",
       "..  ...   ...  ...   ...\n",
       "77   50  18.1  165  45.0\n",
       "78  115  17.2  140  45.0\n",
       "79   50  17.0  147  45.0\n",
       "80  119  16.7  157  45.0\n",
       "81  107  13.2  130  55.0\n",
       "\n",
       "[82 rows x 4 columns]"
      ]
     },
     "execution_count": 99,
     "metadata": {},
     "output_type": "execute_result"
    }
   ],
   "source": [
    "cars"
   ]
  },
  {
   "cell_type": "code",
   "execution_count": 100,
   "id": "f93f8c55",
   "metadata": {},
   "outputs": [
    {
     "data": {
      "text/html": [
       "<div>\n",
       "<style scoped>\n",
       "    .dataframe tbody tr th:only-of-type {\n",
       "        vertical-align: middle;\n",
       "    }\n",
       "\n",
       "    .dataframe tbody tr th {\n",
       "        vertical-align: top;\n",
       "    }\n",
       "\n",
       "    .dataframe thead th {\n",
       "        text-align: right;\n",
       "    }\n",
       "</style>\n",
       "<table border=\"1\" class=\"dataframe\">\n",
       "  <thead>\n",
       "    <tr style=\"text-align: right;\">\n",
       "      <th></th>\n",
       "      <th>VOL</th>\n",
       "      <th>MPG</th>\n",
       "      <th>SP</th>\n",
       "      <th>WT</th>\n",
       "    </tr>\n",
       "  </thead>\n",
       "  <tbody>\n",
       "    <tr>\n",
       "      <th>count</th>\n",
       "      <td>82.000000</td>\n",
       "      <td>82.000000</td>\n",
       "      <td>82.000000</td>\n",
       "      <td>82.000000</td>\n",
       "    </tr>\n",
       "    <tr>\n",
       "      <th>mean</th>\n",
       "      <td>98.804878</td>\n",
       "      <td>33.781707</td>\n",
       "      <td>112.414634</td>\n",
       "      <td>30.914634</td>\n",
       "    </tr>\n",
       "    <tr>\n",
       "      <th>std</th>\n",
       "      <td>22.166285</td>\n",
       "      <td>10.004605</td>\n",
       "      <td>14.037825</td>\n",
       "      <td>8.141422</td>\n",
       "    </tr>\n",
       "    <tr>\n",
       "      <th>min</th>\n",
       "      <td>50.000000</td>\n",
       "      <td>13.200000</td>\n",
       "      <td>90.000000</td>\n",
       "      <td>17.500000</td>\n",
       "    </tr>\n",
       "    <tr>\n",
       "      <th>25%</th>\n",
       "      <td>89.500000</td>\n",
       "      <td>27.775000</td>\n",
       "      <td>105.000000</td>\n",
       "      <td>25.000000</td>\n",
       "    </tr>\n",
       "    <tr>\n",
       "      <th>50%</th>\n",
       "      <td>101.000000</td>\n",
       "      <td>32.450000</td>\n",
       "      <td>109.000000</td>\n",
       "      <td>30.000000</td>\n",
       "    </tr>\n",
       "    <tr>\n",
       "      <th>75%</th>\n",
       "      <td>113.000000</td>\n",
       "      <td>39.300000</td>\n",
       "      <td>114.750000</td>\n",
       "      <td>35.000000</td>\n",
       "    </tr>\n",
       "    <tr>\n",
       "      <th>max</th>\n",
       "      <td>160.000000</td>\n",
       "      <td>65.400000</td>\n",
       "      <td>165.000000</td>\n",
       "      <td>55.000000</td>\n",
       "    </tr>\n",
       "  </tbody>\n",
       "</table>\n",
       "</div>"
      ],
      "text/plain": [
       "              VOL        MPG          SP         WT\n",
       "count   82.000000  82.000000   82.000000  82.000000\n",
       "mean    98.804878  33.781707  112.414634  30.914634\n",
       "std     22.166285  10.004605   14.037825   8.141422\n",
       "min     50.000000  13.200000   90.000000  17.500000\n",
       "25%     89.500000  27.775000  105.000000  25.000000\n",
       "50%    101.000000  32.450000  109.000000  30.000000\n",
       "75%    113.000000  39.300000  114.750000  35.000000\n",
       "max    160.000000  65.400000  165.000000  55.000000"
      ]
     },
     "execution_count": 100,
     "metadata": {},
     "output_type": "execute_result"
    }
   ],
   "source": [
    "cars.describe()"
   ]
  },
  {
   "cell_type": "code",
   "execution_count": 101,
   "id": "3c47c5a1",
   "metadata": {},
   "outputs": [
    {
     "data": {
      "text/html": [
       "<div>\n",
       "<style scoped>\n",
       "    .dataframe tbody tr th:only-of-type {\n",
       "        vertical-align: middle;\n",
       "    }\n",
       "\n",
       "    .dataframe tbody tr th {\n",
       "        vertical-align: top;\n",
       "    }\n",
       "\n",
       "    .dataframe thead th {\n",
       "        text-align: right;\n",
       "    }\n",
       "</style>\n",
       "<table border=\"1\" class=\"dataframe\">\n",
       "  <thead>\n",
       "    <tr style=\"text-align: right;\">\n",
       "      <th></th>\n",
       "      <th>VOL</th>\n",
       "      <th>MPG</th>\n",
       "      <th>SP</th>\n",
       "      <th>WT</th>\n",
       "    </tr>\n",
       "  </thead>\n",
       "  <tbody>\n",
       "    <tr>\n",
       "      <th>VOL</th>\n",
       "      <td>1.000000</td>\n",
       "      <td>-0.368614</td>\n",
       "      <td>-0.043062</td>\n",
       "      <td>0.384954</td>\n",
       "    </tr>\n",
       "    <tr>\n",
       "      <th>MPG</th>\n",
       "      <td>-0.368614</td>\n",
       "      <td>1.000000</td>\n",
       "      <td>-0.688446</td>\n",
       "      <td>-0.905085</td>\n",
       "    </tr>\n",
       "    <tr>\n",
       "      <th>SP</th>\n",
       "      <td>-0.043062</td>\n",
       "      <td>-0.688446</td>\n",
       "      <td>1.000000</td>\n",
       "      <td>0.678534</td>\n",
       "    </tr>\n",
       "    <tr>\n",
       "      <th>WT</th>\n",
       "      <td>0.384954</td>\n",
       "      <td>-0.905085</td>\n",
       "      <td>0.678534</td>\n",
       "      <td>1.000000</td>\n",
       "    </tr>\n",
       "  </tbody>\n",
       "</table>\n",
       "</div>"
      ],
      "text/plain": [
       "          VOL       MPG        SP        WT\n",
       "VOL  1.000000 -0.368614 -0.043062  0.384954\n",
       "MPG -0.368614  1.000000 -0.688446 -0.905085\n",
       "SP  -0.043062 -0.688446  1.000000  0.678534\n",
       "WT   0.384954 -0.905085  0.678534  1.000000"
      ]
     },
     "execution_count": 101,
     "metadata": {},
     "output_type": "execute_result"
    }
   ],
   "source": [
    "cars.corr()"
   ]
  },
  {
   "cell_type": "code",
   "execution_count": 102,
   "id": "765b96e7",
   "metadata": {},
   "outputs": [
    {
     "data": {
      "text/html": [
       "<div>\n",
       "<style scoped>\n",
       "    .dataframe tbody tr th:only-of-type {\n",
       "        vertical-align: middle;\n",
       "    }\n",
       "\n",
       "    .dataframe tbody tr th {\n",
       "        vertical-align: top;\n",
       "    }\n",
       "\n",
       "    .dataframe thead th {\n",
       "        text-align: right;\n",
       "    }\n",
       "</style>\n",
       "<table border=\"1\" class=\"dataframe\">\n",
       "  <thead>\n",
       "    <tr style=\"text-align: right;\">\n",
       "      <th></th>\n",
       "      <th>SP</th>\n",
       "      <th>WT</th>\n",
       "    </tr>\n",
       "  </thead>\n",
       "  <tbody>\n",
       "    <tr>\n",
       "      <th>SP</th>\n",
       "      <td>1.000000</td>\n",
       "      <td>0.678534</td>\n",
       "    </tr>\n",
       "    <tr>\n",
       "      <th>WT</th>\n",
       "      <td>0.678534</td>\n",
       "      <td>1.000000</td>\n",
       "    </tr>\n",
       "  </tbody>\n",
       "</table>\n",
       "</div>"
      ],
      "text/plain": [
       "          SP        WT\n",
       "SP  1.000000  0.678534\n",
       "WT  0.678534  1.000000"
      ]
     },
     "execution_count": 102,
     "metadata": {},
     "output_type": "execute_result"
    }
   ],
   "source": [
    "cars[[\"SP\", \"WT\"]].corr()"
   ]
  },
  {
   "cell_type": "code",
   "execution_count": 124,
   "id": "90a7c407",
   "metadata": {},
   "outputs": [
    {
     "name": "stdout",
     "output_type": "stream",
     "text": [
      "                            OLS Regression Results                            \n",
      "==============================================================================\n",
      "Dep. Variable:                    MPG   R-squared:                       0.835\n",
      "Model:                            OLS   Adj. R-squared:                  0.829\n",
      "Method:                 Least Squares   F-statistic:                     131.7\n",
      "Date:                Sat, 23 Aug 2025   Prob (F-statistic):           1.94e-30\n",
      "Time:                        12:51:07   Log-Likelihood:                -230.80\n",
      "No. Observations:                  82   AIC:                             469.6\n",
      "Df Residuals:                      78   BIC:                             479.2\n",
      "Df Model:                           3                                         \n",
      "Covariance Type:            nonrobust                                         \n",
      "==============================================================================\n",
      "                 coef    std err          t      P>|t|      [0.025      0.975]\n",
      "------------------------------------------------------------------------------\n",
      "const         81.1830      5.123     15.845      0.000      70.983      91.383\n",
      "VOL           -0.0412      0.025     -1.638      0.106      -0.091       0.009\n",
      "SP            -0.1348      0.050     -2.701      0.008      -0.234      -0.035\n",
      "WT            -0.9113      0.093     -9.780      0.000      -1.097      -0.726\n",
      "==============================================================================\n",
      "Omnibus:                       37.489   Durbin-Watson:                   0.802\n",
      "Prob(Omnibus):                  0.000   Jarque-Bera (JB):               93.200\n",
      "Skew:                           1.575   Prob(JB):                     5.78e-21\n",
      "Kurtosis:                       7.166   Cond. No.                     1.73e+03\n",
      "==============================================================================\n",
      "\n",
      "Notes:\n",
      "[1] Standard Errors assume that the covariance matrix of the errors is correctly specified.\n",
      "[2] The condition number is large, 1.73e+03. This might indicate that there are\n",
      "strong multicollinearity or other numerical problems.\n"
     ]
    }
   ],
   "source": [
    "new_x = cars[[\"VOL\", \"SP\", \"WT\"]]\n",
    "new_y = cars[\"MPG\"]\n",
    "\n",
    "new_x_with_const = sm.add_constant(new_x)\n",
    "\n",
    "SLR_model = sm.OLS(new_y, new_x_with_const).fit() # Ordinary Least Squares\n",
    "\n",
    "print(SLR_model.summary())"
   ]
  },
  {
   "cell_type": "code",
   "execution_count": 125,
   "id": "acd60ddc",
   "metadata": {},
   "outputs": [
    {
     "data": {
      "text/plain": [
       "9.129100000000008"
      ]
     },
     "execution_count": 125,
     "metadata": {},
     "output_type": "execute_result"
    }
   ],
   "source": [
    "# independant variables are inter dependent\n",
    "\n",
    "# MPG = -0.1801 * VOL  - 0.5029*SP + 108.1077\n",
    "\n",
    "-0.0412 * 107 -0.1348*130 -0.9113*55 + 81.1830"
   ]
  },
  {
   "cell_type": "code",
   "execution_count": 105,
   "id": "f0ffb9cb",
   "metadata": {},
   "outputs": [
    {
     "data": {
      "text/plain": [
       "'\\n1.  Consider only independent variavle (Use corr)\\n2.  \\n'"
      ]
     },
     "execution_count": 105,
     "metadata": {},
     "output_type": "execute_result"
    }
   ],
   "source": [
    "# Detection of multicorl\n",
    "\n",
    "'''\n",
    "1.  Consider only independent variavle (Use corr)\n",
    "2.  \n",
    "'''"
   ]
  },
  {
   "cell_type": "code",
   "execution_count": 109,
   "id": "6cd6ffa2",
   "metadata": {},
   "outputs": [
    {
     "name": "stdout",
     "output_type": "stream",
     "text": [
      "VOL vs ['SP', 'WT'] 0.319760852239536\n",
      "SP vs ['VOL', 'WT'] 0.5690924666564996\n",
      "WT vs ['VOL', 'SP'] 0.6322666363266174\n"
     ]
    }
   ],
   "source": [
    "for col in [\"VOL\", \"SP\", \"WT\"]:\n",
    "  features = list(set([\"VOL\", \"SP\", \"WT\"]) - set([col]))\n",
    "  new_x = cars[features]\n",
    "  new_y = cars[col]\n",
    "\n",
    "  model = LinearRegression()\n",
    "\n",
    "  model.fit(new_x, new_y)\n",
    "\n",
    "  pred = model.predict(new_x)\n",
    "\n",
    "  print(col, \"vs\", features, r2_score(new_y, pred))\n"
   ]
  },
  {
   "cell_type": "code",
   "execution_count": 123,
   "id": "398da0a0",
   "metadata": {},
   "outputs": [
    {
     "data": {
      "text/plain": [
       "2.7027027027027026"
      ]
     },
     "execution_count": 123,
     "metadata": {},
     "output_type": "execute_result"
    }
   ],
   "source": [
    "1/(1-0.63)"
   ]
  },
  {
   "cell_type": "code",
   "execution_count": null,
   "id": "e2521738",
   "metadata": {},
   "outputs": [],
   "source": []
  }
 ],
 "metadata": {
  "kernelspec": {
   "display_name": "Python 3",
   "language": "python",
   "name": "python3"
  },
  "language_info": {
   "codemirror_mode": {
    "name": "ipython",
    "version": 3
   },
   "file_extension": ".py",
   "mimetype": "text/x-python",
   "name": "python",
   "nbconvert_exporter": "python",
   "pygments_lexer": "ipython3",
   "version": "3.13.5"
  }
 },
 "nbformat": 4,
 "nbformat_minor": 5
}
