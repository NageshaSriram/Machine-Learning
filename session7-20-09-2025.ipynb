{
 "cells": [
  {
   "cell_type": "markdown",
   "id": "3d7918d0",
   "metadata": {},
   "source": [
    "Ridge, Lasso, and Elastic Net are regularization techniques used in linear regression and other machine learning models to prevent overfitting and improve model generalization.\n",
    "\n",
    "- Ridge Regression (L2 Regularization): Adds a penalty equal to the square of the magnitude of coefficients to the loss function. It shrinks coefficients but does not set any to zero. Useful when all features are relevant.\n",
    "\n",
    "- Lasso Regression (L1 Regularization): Adds a penalty equal to the absolute value of the magnitude of coefficients. It can shrink some coefficients to zero, effectively performing feature selection.\n",
    "\n",
    "- Elastic Net: Combines both L1 and L2 penalties. It is useful when there are multiple correlated features, balancing the benefits of Ridge and Lasso.\n",
    "\n",
    "Why used:\n",
    "These methods help control model complexity, reduce overfitting, and improve prediction accuracy, especially when dealing with high-dimensional data or multicollinearity among features"
   ]
  },
  {
   "cell_type": "markdown",
   "id": "29cfe67b",
   "metadata": {},
   "source": []
  }
 ],
 "metadata": {
  "kernelspec": {
   "display_name": "base",
   "language": "python",
   "name": "python3"
  },
  "language_info": {
   "name": "python",
   "version": "3.13.5"
  }
 },
 "nbformat": 4,
 "nbformat_minor": 5
}
